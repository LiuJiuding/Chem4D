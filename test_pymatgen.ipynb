{
 "cells": [
  {
   "cell_type": "code",
   "execution_count": 1,
   "metadata": {},
   "outputs": [
    {
     "name": "stdout",
     "output_type": "stream",
     "text": [
      "[[ 2.81400000e+00  0.00000000e+00  1.72307805e-16]\n",
      " [-1.40700000e+00  2.43699549e+00  1.72307805e-16]\n",
      " [ 0.00000000e+00  0.00000000e+00  1.40480000e+01]]\n"
     ]
    },
    {
     "name": "stderr",
     "output_type": "stream",
     "text": [
      "d:\\Program\\Python\\Python310\\lib\\site-packages\\pymatgen\\io\\cif.py:1186: UserWarning: The default value of primitive was changed from True to False in https://github.com/materialsproject/pymatgen/pull/3419. CifParser now returns the cell in the CIF file as is. If you want the primitive cell, please set primitive=True explicitly.\n",
      "  warnings.warn(\n"
     ]
    },
    {
     "data": {
      "text/plain": [
       "Structure Summary\n",
       "Lattice\n",
       "    abc : 2.814 2.814 14.048\n",
       " angles : 90.0 90.0 120.00000000000001\n",
       " volume : 96.33704403060047\n",
       "      A : 2.814 0.0 1.723078046400326e-16\n",
       "      B : -1.4069999999999998 2.4369954862494105 1.723078046400326e-16\n",
       "      C : 0.0 0.0 14.048\n",
       "    pbc : True True True\n",
       "PeriodicSite: Li1 (Li) (0.0, 0.0, 7.024) [0.0, 0.0, 0.5]\n",
       "PeriodicSite: Li1 (Li) (1.407, 0.8123, 11.71) [0.6667, 0.3333, 0.8333]\n",
       "PeriodicSite: Li1 (Li) (1.11e-16, 1.625, 2.341) [0.3333, 0.6667, 0.1667]\n",
       "PeriodicSite: Co1 (Co) (0.0, 0.0, 0.0) [0.0, 0.0, 0.0]\n",
       "PeriodicSite: Co1 (Co) (1.407, 0.8123, 4.683) [0.6667, 0.3333, 0.3333]\n",
       "PeriodicSite: Co1 (Co) (1.11e-16, 1.625, 9.365) [0.3333, 0.6667, 0.6667]\n",
       "PeriodicSite: O1 (O) (0.0, 0.0, 3.186) [0.0, 0.0, 0.2268]\n",
       "PeriodicSite: O1 (O) (0.0, 0.0, 10.86) [0.0, 0.0, 0.7732]\n",
       "PeriodicSite: O1 (O) (1.407, 0.8123, 7.869) [0.6667, 0.3333, 0.5601]\n",
       "PeriodicSite: O1 (O) (1.407, 0.8123, 1.497) [0.6667, 0.3333, 0.1065]\n",
       "PeriodicSite: O1 (O) (1.11e-16, 1.625, 12.55) [0.3333, 0.6667, 0.8935]\n",
       "PeriodicSite: O1 (O) (1.11e-16, 1.625, 6.179) [0.3333, 0.6667, 0.4399]"
      ]
     },
     "execution_count": 1,
     "metadata": {},
     "output_type": "execute_result"
    }
   ],
   "source": [
    "import pymatgen.analysis.local_env as pmg_env\n",
    "import pymatgen.core as pmg\n",
    "import pymatgen.transformations.site_transformations as pmg_trans\n",
    "import numpy as np\n",
    "# path = r\"G:\\GitClone\\Chem4D\\sample\\test_structures\\common_binaries\\Fe3O4_spinel.cif\"\n",
    "path = r\"G:\\GitClone\\Chem4D\\sample\\LiCoO2.cif\"\n",
    "structure = pmg.Structure.from_file(path)\n",
    "print(structure.lattice.matrix)\n",
    "structure"
   ]
  },
  {
   "cell_type": "code",
   "execution_count": 2,
   "metadata": {},
   "outputs": [
    {
     "name": "stdout",
     "output_type": "stream",
     "text": [
      "[0.    0.    7.024] Li\n"
     ]
    },
    {
     "data": {
      "text/plain": [
       "PeriodicSite: Li1 (Li) (0.2814, 0.0, 8.429) [0.1, 0.0, 0.6]"
      ]
     },
     "execution_count": 2,
     "metadata": {},
     "output_type": "execute_result"
    }
   ],
   "source": [
    "# structure*(2,2,2)\n",
    "print(structure[0])\n",
    "v = np.array([0.1,1,0.1])\n",
    "# t = pmg_trans.TranslateSitesTransformation([0],v,True)\n",
    "# print(t.as_dict)\n",
    "# new = t.apply_transformation(structure)\n",
    "structure.translate_sites(0,v,True,True)\n",
    "structure[0]"
   ]
  },
  {
   "cell_type": "code",
   "execution_count": 3,
   "metadata": {},
   "outputs": [
    {
     "data": {
      "text/plain": [
       "Structure Summary\n",
       "Lattice\n",
       "    abc : 5.628 5.628 28.096\n",
       " angles : 90.0 90.0 120.00000000000001\n",
       " volume : 770.6963522448037\n",
       "      A : 5.628 0.0 3.446156092800652e-16\n",
       "      B : -2.8139999999999996 4.873990972498821 3.446156092800652e-16\n",
       "      C : 0.0 0.0 28.096\n",
       "    pbc : True True True\n",
       "PeriodicSite: Li1 (Li) (0.2814, 0.0, 8.429) [0.05, 0.0, 0.3]\n",
       "PeriodicSite: Li1 (Li) (0.2814, 0.0, 22.48) [0.05, 0.0, 0.8]\n",
       "PeriodicSite: Li1 (Li) (-1.126, 2.437, 8.429) [0.05, 0.5, 0.3]\n",
       "PeriodicSite: Li1 (Li) (-1.126, 2.437, 22.48) [0.05, 0.5, 0.8]\n",
       "PeriodicSite: Li1 (Li) (3.095, 0.0, 8.429) [0.55, 0.0, 0.3]\n",
       "PeriodicSite: Li1 (Li) (3.095, 0.0, 22.48) [0.55, 0.0, 0.8]\n",
       "PeriodicSite: Li1 (Li) (1.688, 2.437, 8.429) [0.55, 0.5, 0.3]\n",
       "PeriodicSite: Li1 (Li) (1.688, 2.437, 22.48) [0.55, 0.5, 0.8]\n",
       "PeriodicSite: Li1 (Li) (1.407, 0.8123, 11.71) [0.3333, 0.1667, 0.4167]\n",
       "PeriodicSite: Li1 (Li) (1.407, 0.8123, 25.75) [0.3333, 0.1667, 0.9167]\n",
       "PeriodicSite: Li1 (Li) (2.22e-16, 3.249, 11.71) [0.3333, 0.6667, 0.4167]\n",
       "PeriodicSite: Li1 (Li) (2.22e-16, 3.249, 25.75) [0.3333, 0.6667, 0.9167]\n",
       "PeriodicSite: Li1 (Li) (4.221, 0.8123, 11.71) [0.8333, 0.1667, 0.4167]\n",
       "PeriodicSite: Li1 (Li) (4.221, 0.8123, 25.75) [0.8333, 0.1667, 0.9167]\n",
       "PeriodicSite: Li1 (Li) (2.814, 3.249, 11.71) [0.8333, 0.6667, 0.4167]\n",
       "PeriodicSite: Li1 (Li) (2.814, 3.249, 25.75) [0.8333, 0.6667, 0.9167]\n",
       "PeriodicSite: Li1 (Li) (1.11e-16, 1.625, 2.341) [0.1667, 0.3333, 0.08333]\n",
       "PeriodicSite: Li1 (Li) (1.11e-16, 1.625, 16.39) [0.1667, 0.3333, 0.5833]\n",
       "PeriodicSite: Li1 (Li) (-1.407, 4.062, 2.341) [0.1667, 0.8333, 0.08333]\n",
       "PeriodicSite: Li1 (Li) (-1.407, 4.062, 16.39) [0.1667, 0.8333, 0.5833]\n",
       "PeriodicSite: Li1 (Li) (2.814, 1.625, 2.341) [0.6667, 0.3333, 0.08333]\n",
       "PeriodicSite: Li1 (Li) (2.814, 1.625, 16.39) [0.6667, 0.3333, 0.5833]\n",
       "PeriodicSite: Li1 (Li) (1.407, 4.062, 2.341) [0.6667, 0.8333, 0.08333]\n",
       "PeriodicSite: Li1 (Li) (1.407, 4.062, 16.39) [0.6667, 0.8333, 0.5833]\n",
       "PeriodicSite: Co1 (Co) (0.0, 0.0, 0.0) [0.0, 0.0, 0.0]\n",
       "PeriodicSite: Co1 (Co) (0.0, 0.0, 14.05) [0.0, 0.0, 0.5]\n",
       "PeriodicSite: Co1 (Co) (-1.407, 2.437, 1.723e-16) [0.0, 0.5, 0.0]\n",
       "PeriodicSite: Co1 (Co) (-1.407, 2.437, 14.05) [0.0, 0.5, 0.5]\n",
       "PeriodicSite: Co1 (Co) (2.814, 0.0, 1.723e-16) [0.5, 0.0, 0.0]\n",
       "PeriodicSite: Co1 (Co) (2.814, 0.0, 14.05) [0.5, 0.0, 0.5]\n",
       "PeriodicSite: Co1 (Co) (1.407, 2.437, 3.446e-16) [0.5, 0.5, 0.0]\n",
       "PeriodicSite: Co1 (Co) (1.407, 2.437, 14.05) [0.5, 0.5, 0.5]\n",
       "PeriodicSite: Co1 (Co) (1.407, 0.8123, 4.683) [0.3333, 0.1667, 0.1667]\n",
       "PeriodicSite: Co1 (Co) (1.407, 0.8123, 18.73) [0.3333, 0.1667, 0.6667]\n",
       "PeriodicSite: Co1 (Co) (2.22e-16, 3.249, 4.683) [0.3333, 0.6667, 0.1667]\n",
       "PeriodicSite: Co1 (Co) (2.22e-16, 3.249, 18.73) [0.3333, 0.6667, 0.6667]\n",
       "PeriodicSite: Co1 (Co) (4.221, 0.8123, 4.683) [0.8333, 0.1667, 0.1667]\n",
       "PeriodicSite: Co1 (Co) (4.221, 0.8123, 18.73) [0.8333, 0.1667, 0.6667]\n",
       "PeriodicSite: Co1 (Co) (2.814, 3.249, 4.683) [0.8333, 0.6667, 0.1667]\n",
       "PeriodicSite: Co1 (Co) (2.814, 3.249, 18.73) [0.8333, 0.6667, 0.6667]\n",
       "PeriodicSite: Co1 (Co) (1.11e-16, 1.625, 9.365) [0.1667, 0.3333, 0.3333]\n",
       "PeriodicSite: Co1 (Co) (1.11e-16, 1.625, 23.41) [0.1667, 0.3333, 0.8333]\n",
       "PeriodicSite: Co1 (Co) (-1.407, 4.062, 9.365) [0.1667, 0.8333, 0.3333]\n",
       "PeriodicSite: Co1 (Co) (-1.407, 4.062, 23.41) [0.1667, 0.8333, 0.8333]\n",
       "PeriodicSite: Co1 (Co) (2.814, 1.625, 9.365) [0.6667, 0.3333, 0.3333]\n",
       "PeriodicSite: Co1 (Co) (2.814, 1.625, 23.41) [0.6667, 0.3333, 0.8333]\n",
       "PeriodicSite: Co1 (Co) (1.407, 4.062, 9.365) [0.6667, 0.8333, 0.3333]\n",
       "PeriodicSite: Co1 (Co) (1.407, 4.062, 23.41) [0.6667, 0.8333, 0.8333]\n",
       "PeriodicSite: O1 (O) (0.0, 0.0, 3.186) [0.0, 0.0, 0.1134]\n",
       "PeriodicSite: O1 (O) (0.0, 0.0, 17.23) [0.0, 0.0, 0.6134]\n",
       "PeriodicSite: O1 (O) (-1.407, 2.437, 3.186) [0.0, 0.5, 0.1134]\n",
       "PeriodicSite: O1 (O) (-1.407, 2.437, 17.23) [0.0, 0.5, 0.6134]\n",
       "PeriodicSite: O1 (O) (2.814, 0.0, 3.186) [0.5, 0.0, 0.1134]\n",
       "PeriodicSite: O1 (O) (2.814, 0.0, 17.23) [0.5, 0.0, 0.6134]\n",
       "PeriodicSite: O1 (O) (1.407, 2.437, 3.186) [0.5, 0.5, 0.1134]\n",
       "PeriodicSite: O1 (O) (1.407, 2.437, 17.23) [0.5, 0.5, 0.6134]\n",
       "PeriodicSite: O1 (O) (0.0, 0.0, 10.86) [0.0, 0.0, 0.3866]\n",
       "PeriodicSite: O1 (O) (0.0, 0.0, 24.91) [0.0, 0.0, 0.8866]\n",
       "PeriodicSite: O1 (O) (-1.407, 2.437, 10.86) [0.0, 0.5, 0.3866]\n",
       "PeriodicSite: O1 (O) (-1.407, 2.437, 24.91) [0.0, 0.5, 0.8866]\n",
       "PeriodicSite: O1 (O) (2.814, 0.0, 10.86) [0.5, 0.0, 0.3866]\n",
       "PeriodicSite: O1 (O) (2.814, 0.0, 24.91) [0.5, 0.0, 0.8866]\n",
       "PeriodicSite: O1 (O) (1.407, 2.437, 10.86) [0.5, 0.5, 0.3866]\n",
       "PeriodicSite: O1 (O) (1.407, 2.437, 24.91) [0.5, 0.5, 0.8866]\n",
       "PeriodicSite: O1 (O) (1.407, 0.8123, 7.869) [0.3333, 0.1667, 0.2801]\n",
       "PeriodicSite: O1 (O) (1.407, 0.8123, 21.92) [0.3333, 0.1667, 0.7801]\n",
       "PeriodicSite: O1 (O) (2.22e-16, 3.249, 7.869) [0.3333, 0.6667, 0.2801]\n",
       "PeriodicSite: O1 (O) (2.22e-16, 3.249, 21.92) [0.3333, 0.6667, 0.7801]\n",
       "PeriodicSite: O1 (O) (4.221, 0.8123, 7.869) [0.8333, 0.1667, 0.2801]\n",
       "PeriodicSite: O1 (O) (4.221, 0.8123, 21.92) [0.8333, 0.1667, 0.7801]\n",
       "PeriodicSite: O1 (O) (2.814, 3.249, 7.869) [0.8333, 0.6667, 0.2801]\n",
       "PeriodicSite: O1 (O) (2.814, 3.249, 21.92) [0.8333, 0.6667, 0.7801]\n",
       "PeriodicSite: O1 (O) (1.407, 0.8123, 1.497) [0.3333, 0.1667, 0.05327]\n",
       "PeriodicSite: O1 (O) (1.407, 0.8123, 15.54) [0.3333, 0.1667, 0.5533]\n",
       "PeriodicSite: O1 (O) (2.22e-16, 3.249, 1.497) [0.3333, 0.6667, 0.05327]\n",
       "PeriodicSite: O1 (O) (2.22e-16, 3.249, 15.54) [0.3333, 0.6667, 0.5533]\n",
       "PeriodicSite: O1 (O) (4.221, 0.8123, 1.497) [0.8333, 0.1667, 0.05327]\n",
       "PeriodicSite: O1 (O) (4.221, 0.8123, 15.54) [0.8333, 0.1667, 0.5533]\n",
       "PeriodicSite: O1 (O) (2.814, 3.249, 1.497) [0.8333, 0.6667, 0.05327]\n",
       "PeriodicSite: O1 (O) (2.814, 3.249, 15.54) [0.8333, 0.6667, 0.5533]\n",
       "PeriodicSite: O1 (O) (1.11e-16, 1.625, 12.55) [0.1667, 0.3333, 0.4467]\n",
       "PeriodicSite: O1 (O) (1.11e-16, 1.625, 26.6) [0.1667, 0.3333, 0.9467]\n",
       "PeriodicSite: O1 (O) (-1.407, 4.062, 12.55) [0.1667, 0.8333, 0.4467]\n",
       "PeriodicSite: O1 (O) (-1.407, 4.062, 26.6) [0.1667, 0.8333, 0.9467]\n",
       "PeriodicSite: O1 (O) (2.814, 1.625, 12.55) [0.6667, 0.3333, 0.4467]\n",
       "PeriodicSite: O1 (O) (2.814, 1.625, 26.6) [0.6667, 0.3333, 0.9467]\n",
       "PeriodicSite: O1 (O) (1.407, 4.062, 12.55) [0.6667, 0.8333, 0.4467]\n",
       "PeriodicSite: O1 (O) (1.407, 4.062, 26.6) [0.6667, 0.8333, 0.9467]\n",
       "PeriodicSite: O1 (O) (1.11e-16, 1.625, 6.179) [0.1667, 0.3333, 0.2199]\n",
       "PeriodicSite: O1 (O) (1.11e-16, 1.625, 20.23) [0.1667, 0.3333, 0.7199]\n",
       "PeriodicSite: O1 (O) (-1.407, 4.062, 6.179) [0.1667, 0.8333, 0.2199]\n",
       "PeriodicSite: O1 (O) (-1.407, 4.062, 20.23) [0.1667, 0.8333, 0.7199]\n",
       "PeriodicSite: O1 (O) (2.814, 1.625, 6.179) [0.6667, 0.3333, 0.2199]\n",
       "PeriodicSite: O1 (O) (2.814, 1.625, 20.23) [0.6667, 0.3333, 0.7199]\n",
       "PeriodicSite: O1 (O) (1.407, 4.062, 6.179) [0.6667, 0.8333, 0.2199]\n",
       "PeriodicSite: O1 (O) (1.407, 4.062, 20.23) [0.6667, 0.8333, 0.7199]"
      ]
     },
     "execution_count": 3,
     "metadata": {},
     "output_type": "execute_result"
    }
   ],
   "source": [
    "structure.make_supercell([2,2,2])\n",
    "m=structure.lattice.matrix\n",
    "structure"
   ]
  },
  {
   "cell_type": "code",
   "execution_count": 4,
   "metadata": {},
   "outputs": [
    {
     "data": {
      "text/plain": [
       "Structure Summary\n",
       "Lattice\n",
       "    abc : 5.628 5.628 28.096\n",
       " angles : 90.0 90.0 120.00000000000001\n",
       " volume : 770.6963522448037\n",
       "      A : 5.628 0.0 3.446156092800652e-16\n",
       "      B : -2.8139999999999996 4.873990972498821 3.446156092800652e-16\n",
       "      C : 0.0 0.0 28.096\n",
       "    pbc : True True True\n",
       "PeriodicSite: Li1 (Li+) (0.2814, 0.0, 8.429) [0.05, 0.0, 0.3]\n",
       "PeriodicSite: Li1 (Li+) (0.2814, 0.0, 22.48) [0.05, 0.0, 0.8]\n",
       "PeriodicSite: Li1 (Li+) (-1.126, 2.437, 8.429) [0.05, 0.5, 0.3]\n",
       "PeriodicSite: Li1 (Li+) (-1.126, 2.437, 22.48) [0.05, 0.5, 0.8]\n",
       "PeriodicSite: Li1 (Li+) (3.095, 0.0, 8.429) [0.55, 0.0, 0.3]\n",
       "PeriodicSite: Li1 (Li+) (3.095, 0.0, 22.48) [0.55, 0.0, 0.8]\n",
       "PeriodicSite: Li1 (Li+) (1.688, 2.437, 8.429) [0.55, 0.5, 0.3]\n",
       "PeriodicSite: Li1 (Li+) (1.688, 2.437, 22.48) [0.55, 0.5, 0.8]\n",
       "PeriodicSite: Li1 (Li+) (1.407, 0.8123, 11.71) [0.3333, 0.1667, 0.4167]\n",
       "PeriodicSite: Li1 (Li+) (1.407, 0.8123, 25.75) [0.3333, 0.1667, 0.9167]\n",
       "PeriodicSite: Li1 (Li+) (2.22e-16, 3.249, 11.71) [0.3333, 0.6667, 0.4167]\n",
       "PeriodicSite: Li1 (Li+) (2.22e-16, 3.249, 25.75) [0.3333, 0.6667, 0.9167]\n",
       "PeriodicSite: Li1 (Li+) (4.221, 0.8123, 11.71) [0.8333, 0.1667, 0.4167]\n",
       "PeriodicSite: Li1 (Li+) (4.221, 0.8123, 25.75) [0.8333, 0.1667, 0.9167]\n",
       "PeriodicSite: Li1 (Li+) (2.814, 3.249, 11.71) [0.8333, 0.6667, 0.4167]\n",
       "PeriodicSite: Li1 (Li+) (2.814, 3.249, 25.75) [0.8333, 0.6667, 0.9167]\n",
       "PeriodicSite: Li1 (Li+) (1.11e-16, 1.625, 2.341) [0.1667, 0.3333, 0.08333]\n",
       "PeriodicSite: Li1 (Li+) (1.11e-16, 1.625, 16.39) [0.1667, 0.3333, 0.5833]\n",
       "PeriodicSite: Li1 (Li+) (-1.407, 4.062, 2.341) [0.1667, 0.8333, 0.08333]\n",
       "PeriodicSite: Li1 (Li+) (-1.407, 4.062, 16.39) [0.1667, 0.8333, 0.5833]\n",
       "PeriodicSite: Li1 (Li+) (2.814, 1.625, 2.341) [0.6667, 0.3333, 0.08333]\n",
       "PeriodicSite: Li1 (Li+) (2.814, 1.625, 16.39) [0.6667, 0.3333, 0.5833]\n",
       "PeriodicSite: Li1 (Li+) (1.407, 4.062, 2.341) [0.6667, 0.8333, 0.08333]\n",
       "PeriodicSite: Li1 (Li+) (1.407, 4.062, 16.39) [0.6667, 0.8333, 0.5833]\n",
       "PeriodicSite: Co1 (Co3+) (0.0, 0.0, 0.0) [0.0, 0.0, 0.0]\n",
       "PeriodicSite: Co1 (Co3+) (0.0, 0.0, 14.05) [0.0, 0.0, 0.5]\n",
       "PeriodicSite: Co1 (Co3+) (-1.407, 2.437, 1.723e-16) [0.0, 0.5, 0.0]\n",
       "PeriodicSite: Co1 (Co3+) (-1.407, 2.437, 14.05) [0.0, 0.5, 0.5]\n",
       "PeriodicSite: Co1 (Co3+) (2.814, 0.0, 1.723e-16) [0.5, 0.0, 0.0]\n",
       "PeriodicSite: Co1 (Co3+) (2.814, 0.0, 14.05) [0.5, 0.0, 0.5]\n",
       "PeriodicSite: Co1 (Co3+) (1.407, 2.437, 3.446e-16) [0.5, 0.5, 0.0]\n",
       "PeriodicSite: Co1 (Co3+) (1.407, 2.437, 14.05) [0.5, 0.5, 0.5]\n",
       "PeriodicSite: Co1 (Co3+) (1.407, 0.8123, 4.683) [0.3333, 0.1667, 0.1667]\n",
       "PeriodicSite: Co1 (Co3+) (1.407, 0.8123, 18.73) [0.3333, 0.1667, 0.6667]\n",
       "PeriodicSite: Co1 (Co3+) (2.22e-16, 3.249, 4.683) [0.3333, 0.6667, 0.1667]\n",
       "PeriodicSite: Co1 (Co3+) (2.22e-16, 3.249, 18.73) [0.3333, 0.6667, 0.6667]\n",
       "PeriodicSite: Co1 (Co3+) (4.221, 0.8123, 4.683) [0.8333, 0.1667, 0.1667]\n",
       "PeriodicSite: Co1 (Co3+) (4.221, 0.8123, 18.73) [0.8333, 0.1667, 0.6667]\n",
       "PeriodicSite: Co1 (Co3+) (2.814, 3.249, 4.683) [0.8333, 0.6667, 0.1667]\n",
       "PeriodicSite: Co1 (Co3+) (2.814, 3.249, 18.73) [0.8333, 0.6667, 0.6667]\n",
       "PeriodicSite: Co1 (Co3+) (1.11e-16, 1.625, 9.365) [0.1667, 0.3333, 0.3333]\n",
       "PeriodicSite: Co1 (Co3+) (1.11e-16, 1.625, 23.41) [0.1667, 0.3333, 0.8333]\n",
       "PeriodicSite: Co1 (Co3+) (-1.407, 4.062, 9.365) [0.1667, 0.8333, 0.3333]\n",
       "PeriodicSite: Co1 (Co3+) (-1.407, 4.062, 23.41) [0.1667, 0.8333, 0.8333]\n",
       "PeriodicSite: Co1 (Co3+) (2.814, 1.625, 9.365) [0.6667, 0.3333, 0.3333]\n",
       "PeriodicSite: Co1 (Co3+) (2.814, 1.625, 23.41) [0.6667, 0.3333, 0.8333]\n",
       "PeriodicSite: Co1 (Co3+) (1.407, 4.062, 9.365) [0.6667, 0.8333, 0.3333]\n",
       "PeriodicSite: Co1 (Co3+) (1.407, 4.062, 23.41) [0.6667, 0.8333, 0.8333]\n",
       "PeriodicSite: O1 (O2-) (0.0, 0.0, 3.186) [0.0, 0.0, 0.1134]\n",
       "PeriodicSite: O1 (O2-) (0.0, 0.0, 17.23) [0.0, 0.0, 0.6134]\n",
       "PeriodicSite: O1 (O2-) (-1.407, 2.437, 3.186) [0.0, 0.5, 0.1134]\n",
       "PeriodicSite: O1 (O2-) (-1.407, 2.437, 17.23) [0.0, 0.5, 0.6134]\n",
       "PeriodicSite: O1 (O2-) (2.814, 0.0, 3.186) [0.5, 0.0, 0.1134]\n",
       "PeriodicSite: O1 (O2-) (2.814, 0.0, 17.23) [0.5, 0.0, 0.6134]\n",
       "PeriodicSite: O1 (O2-) (1.407, 2.437, 3.186) [0.5, 0.5, 0.1134]\n",
       "PeriodicSite: O1 (O2-) (1.407, 2.437, 17.23) [0.5, 0.5, 0.6134]\n",
       "PeriodicSite: O1 (O2-) (0.0, 0.0, 10.86) [0.0, 0.0, 0.3866]\n",
       "PeriodicSite: O1 (O2-) (0.0, 0.0, 24.91) [0.0, 0.0, 0.8866]\n",
       "PeriodicSite: O1 (O2-) (-1.407, 2.437, 10.86) [0.0, 0.5, 0.3866]\n",
       "PeriodicSite: O1 (O2-) (-1.407, 2.437, 24.91) [0.0, 0.5, 0.8866]\n",
       "PeriodicSite: O1 (O2-) (2.814, 0.0, 10.86) [0.5, 0.0, 0.3866]\n",
       "PeriodicSite: O1 (O2-) (2.814, 0.0, 24.91) [0.5, 0.0, 0.8866]\n",
       "PeriodicSite: O1 (O2-) (1.407, 2.437, 10.86) [0.5, 0.5, 0.3866]\n",
       "PeriodicSite: O1 (O2-) (1.407, 2.437, 24.91) [0.5, 0.5, 0.8866]\n",
       "PeriodicSite: O1 (O2-) (1.407, 0.8123, 7.869) [0.3333, 0.1667, 0.2801]\n",
       "PeriodicSite: O1 (O2-) (1.407, 0.8123, 21.92) [0.3333, 0.1667, 0.7801]\n",
       "PeriodicSite: O1 (O2-) (2.22e-16, 3.249, 7.869) [0.3333, 0.6667, 0.2801]\n",
       "PeriodicSite: O1 (O2-) (2.22e-16, 3.249, 21.92) [0.3333, 0.6667, 0.7801]\n",
       "PeriodicSite: O1 (O2-) (4.221, 0.8123, 7.869) [0.8333, 0.1667, 0.2801]\n",
       "PeriodicSite: O1 (O2-) (4.221, 0.8123, 21.92) [0.8333, 0.1667, 0.7801]\n",
       "PeriodicSite: O1 (O2-) (2.814, 3.249, 7.869) [0.8333, 0.6667, 0.2801]\n",
       "PeriodicSite: O1 (O2-) (2.814, 3.249, 21.92) [0.8333, 0.6667, 0.7801]\n",
       "PeriodicSite: O1 (O2-) (1.407, 0.8123, 1.497) [0.3333, 0.1667, 0.05327]\n",
       "PeriodicSite: O1 (O2-) (1.407, 0.8123, 15.54) [0.3333, 0.1667, 0.5533]\n",
       "PeriodicSite: O1 (O2-) (2.22e-16, 3.249, 1.497) [0.3333, 0.6667, 0.05327]\n",
       "PeriodicSite: O1 (O2-) (2.22e-16, 3.249, 15.54) [0.3333, 0.6667, 0.5533]\n",
       "PeriodicSite: O1 (O2-) (4.221, 0.8123, 1.497) [0.8333, 0.1667, 0.05327]\n",
       "PeriodicSite: O1 (O2-) (4.221, 0.8123, 15.54) [0.8333, 0.1667, 0.5533]\n",
       "PeriodicSite: O1 (O2-) (2.814, 3.249, 1.497) [0.8333, 0.6667, 0.05327]\n",
       "PeriodicSite: O1 (O2-) (2.814, 3.249, 15.54) [0.8333, 0.6667, 0.5533]\n",
       "PeriodicSite: O1 (O2-) (1.11e-16, 1.625, 12.55) [0.1667, 0.3333, 0.4467]\n",
       "PeriodicSite: O1 (O2-) (1.11e-16, 1.625, 26.6) [0.1667, 0.3333, 0.9467]\n",
       "PeriodicSite: O1 (O2-) (-1.407, 4.062, 12.55) [0.1667, 0.8333, 0.4467]\n",
       "PeriodicSite: O1 (O2-) (-1.407, 4.062, 26.6) [0.1667, 0.8333, 0.9467]\n",
       "PeriodicSite: O1 (O2-) (2.814, 1.625, 12.55) [0.6667, 0.3333, 0.4467]\n",
       "PeriodicSite: O1 (O2-) (2.814, 1.625, 26.6) [0.6667, 0.3333, 0.9467]\n",
       "PeriodicSite: O1 (O2-) (1.407, 4.062, 12.55) [0.6667, 0.8333, 0.4467]\n",
       "PeriodicSite: O1 (O2-) (1.407, 4.062, 26.6) [0.6667, 0.8333, 0.9467]\n",
       "PeriodicSite: O1 (O2-) (1.11e-16, 1.625, 6.179) [0.1667, 0.3333, 0.2199]\n",
       "PeriodicSite: O1 (O2-) (1.11e-16, 1.625, 20.23) [0.1667, 0.3333, 0.7199]\n",
       "PeriodicSite: O1 (O2-) (-1.407, 4.062, 6.179) [0.1667, 0.8333, 0.2199]\n",
       "PeriodicSite: O1 (O2-) (-1.407, 4.062, 20.23) [0.1667, 0.8333, 0.7199]\n",
       "PeriodicSite: O1 (O2-) (2.814, 1.625, 6.179) [0.6667, 0.3333, 0.2199]\n",
       "PeriodicSite: O1 (O2-) (2.814, 1.625, 20.23) [0.6667, 0.3333, 0.7199]\n",
       "PeriodicSite: O1 (O2-) (1.407, 4.062, 6.179) [0.6667, 0.8333, 0.2199]\n",
       "PeriodicSite: O1 (O2-) (1.407, 4.062, 20.23) [0.6667, 0.8333, 0.7199]"
      ]
     },
     "execution_count": 4,
     "metadata": {},
     "output_type": "execute_result"
    }
   ],
   "source": [
    "structure.add_oxidation_state_by_guess()\n",
    "structure"
   ]
  },
  {
   "cell_type": "code",
   "execution_count": 5,
   "metadata": {},
   "outputs": [
    {
     "data": {
      "text/plain": [
       "Species Li+"
      ]
     },
     "execution_count": 5,
     "metadata": {},
     "output_type": "execute_result"
    }
   ],
   "source": [
    "structure[1].specie"
   ]
  },
  {
   "cell_type": "code",
   "execution_count": 6,
   "metadata": {},
   "outputs": [
    {
     "data": {
      "text/plain": [
       "'Li1'"
      ]
     },
     "execution_count": 6,
     "metadata": {},
     "output_type": "execute_result"
    }
   ],
   "source": [
    "structure[1].label"
   ]
  },
  {
   "cell_type": "code",
   "execution_count": 7,
   "metadata": {},
   "outputs": [
    {
     "data": {
      "text/plain": [
       "pymatgen.core.periodic_table.Species"
      ]
     },
     "execution_count": 7,
     "metadata": {},
     "output_type": "execute_result"
    }
   ],
   "source": [
    "type(structure[1].specie)"
   ]
  },
  {
   "cell_type": "code",
   "execution_count": 8,
   "metadata": {},
   "outputs": [
    {
     "data": {
      "text/plain": [
       "'+'"
      ]
     },
     "execution_count": 8,
     "metadata": {},
     "output_type": "execute_result"
    }
   ],
   "source": [
    "str(structure[6].specie)[-1]"
   ]
  },
  {
   "cell_type": "code",
   "execution_count": 9,
   "metadata": {},
   "outputs": [
    {
     "data": {
      "text/plain": [
       "({'Li1': '+', 'Co1': '+', 'O1': '-'}, {'Li1': 'Li', 'Co1': 'Co', 'O1': 'O'})"
      ]
     },
     "execution_count": 9,
     "metadata": {},
     "output_type": "execute_result"
    }
   ],
   "source": [
    "charge_dict = {}\n",
    "label_dict = {}\n",
    "for site in structure:\n",
    "    charge_dict[site.label] = str(site.specie)[-1]\n",
    "    label_dict[site.label] = str(site.specie.element)\n",
    "charge_dict, label_dict"
   ]
  },
  {
   "cell_type": "code",
   "execution_count": 10,
   "metadata": {},
   "outputs": [
    {
     "data": {
      "text/plain": [
       "array([[ 5.62800000e+00,  0.00000000e+00,  3.44615609e-16],\n",
       "       [-2.81400000e+00,  4.87399097e+00,  3.44615609e-16],\n",
       "       [ 0.00000000e+00,  0.00000000e+00,  2.80960000e+01]])"
      ]
     },
     "execution_count": 10,
     "metadata": {},
     "output_type": "execute_result"
    }
   ],
   "source": [
    "m = structure.lattice.matrix\n",
    "m"
   ]
  },
  {
   "cell_type": "code",
   "execution_count": 11,
   "metadata": {},
   "outputs": [
    {
     "name": "stdout",
     "output_type": "stream",
     "text": [
      "[2.814      3.24932731 4.68266667] Co3+ [0.83333333 0.66666667 0.16666667]\n"
     ]
    },
    {
     "data": {
      "text/plain": [
       "(9.43832745164335, array([0.5, 0.5, 0.5]))"
      ]
     },
     "execution_count": 11,
     "metadata": {},
     "output_type": "execute_result"
    }
   ],
   "source": [
    "print(structure[38],structure[38].frac_coords)\n",
    "# c = structure.lattice.matrix[2]\n",
    "# print(-c)\n",
    "# # structure.translate_sites(38,[0,0,-0.5])\n",
    "# structure.translate_sites(38,c,frac_coords=False)\n",
    "structure[38].distance_and_image_from_frac_coords([0.1,0,0],[0.5,0.5,0.5])"
   ]
  },
  {
   "cell_type": "code",
   "execution_count": 14,
   "metadata": {},
   "outputs": [
    {
     "data": {
      "text/plain": [
       "array([5.62800000e+00, 0.00000000e+00, 3.44615609e-16])"
      ]
     },
     "execution_count": 14,
     "metadata": {},
     "output_type": "execute_result"
    }
   ],
   "source": [
    "structure.lattice.matrix[0]"
   ]
  },
  {
   "cell_type": "code",
   "execution_count": 15,
   "metadata": {},
   "outputs": [
    {
     "data": {
      "text/plain": [
       "array([2.814     , 3.24932731, 4.68266667])"
      ]
     },
     "execution_count": 15,
     "metadata": {},
     "output_type": "execute_result"
    }
   ],
   "source": [
    "structure[38].coords"
   ]
  },
  {
   "cell_type": "code",
   "execution_count": null,
   "metadata": {},
   "outputs": [],
   "source": []
  }
 ],
 "metadata": {
  "kernelspec": {
   "display_name": "Python 3",
   "language": "python",
   "name": "python3"
  },
  "language_info": {
   "codemirror_mode": {
    "name": "ipython",
    "version": 3
   },
   "file_extension": ".py",
   "mimetype": "text/x-python",
   "name": "python",
   "nbconvert_exporter": "python",
   "pygments_lexer": "ipython3",
   "version": "3.10.5"
  }
 },
 "nbformat": 4,
 "nbformat_minor": 2
}
