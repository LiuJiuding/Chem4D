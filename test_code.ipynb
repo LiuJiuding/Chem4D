{
 "cells": [
  {
   "cell_type": "code",
   "execution_count": 3,
   "metadata": {},
   "outputs": [
    {
     "name": "stdout",
     "output_type": "stream",
     "text": [
      "4 1.25\n",
      "5 1.3599999999999999\n",
      "6 1.8055555555555556\n",
      "7 9.061224489795917\n",
      "8 14.4375\n",
      "9 15.06172839506173\n",
      "10 16.009999999999998\n"
     ]
    }
   ],
   "source": [
    "import numpy as np\n",
    "data = [100,101,99,98,101,102,108,109,107,108,110]\n",
    "x = []\n",
    "y = []\n",
    "for i in range(len(data)):\n",
    "    if i > 3:\n",
    "        sample = data[:i]\n",
    "        variance = np.var(sample)\n",
    "        print(i, variance)\n",
    "        # if variance>5.0:\n",
    "        #     break\n",
    "        x.append(i)\n",
    "        y.append(variance)"
   ]
  },
  {
   "cell_type": "code",
   "execution_count": 4,
   "metadata": {},
   "outputs": [
    {
     "data": {
      "text/plain": [
       "<matplotlib.legend.Legend at 0x2ddcba2acb0>"
      ]
     },
     "execution_count": 4,
     "metadata": {},
     "output_type": "execute_result"
    },
    {
     "data": {
      "image/png": "[encoded data removed]",
      "text/plain": [
       "<Figure size 360x194.4 with 1 Axes>"
      ]
     },
     "metadata": {
      "needs_background": "light"
     },
     "output_type": "display_data"
    }
   ],
   "source": [
    "import matplotlib.pyplot as plt\n",
    "import matplotlib as mpl\n",
    "\n",
    "fig, ax = plt.subplots(figsize=(5, 2.7), layout='constrained')\n",
    "ax.plot(x, y, label='linear')  # Plot some data on the axes.\n",
    "# ax.plot(x, x**2, label='quadratic')  # Plot more data on the axes...\n",
    "# ax.plot(x, x**3, label='cubic')  # ... and some more.\n",
    "ax.set_xlabel('x label')  # Add an x-label to the axes.\n",
    "ax.set_ylabel('y label')  # Add a y-label to the axes.\n",
    "ax.set_title(\"Simple Plot\")  # Add a title to the axes.\n",
    "ax.legend()  # Add a legend."
   ]
  },
  {
   "cell_type": "code",
   "execution_count": 13,
   "metadata": {},
   "outputs": [
    {
     "name": "stdout",
     "output_type": "stream",
     "text": [
      "loopstart:  85\n",
      "site_label:  0\n",
      "type_symbol:  1\n",
      "site_start:  93\n",
      "site_num:  3\n",
      "charge_dict:  {'O1': -1, 'Co1': 1, 'Li1': 1}\n",
      "label_dict:  {'O1': 'O', 'Co1': 'Co', 'Li1': 'Li'}\n"
     ]
    }
   ],
   "source": [
    "import os\n",
    "\n",
    "path = r\"G:\\GitClone\\Chem4D\\sample\\LiCoO2.cif\"\n",
    "with open(path,'r') as f:\n",
    "    lines = f.readlines()\n",
    "    loopstart:int = 0\n",
    "    type_symbol:int = 0\n",
    "    site_label:int = 0\n",
    "    site_start:int = 0\n",
    "    site_num:int = 0\n",
    "    charge_dict = {}\n",
    "    label_dict = {}\n",
    "    for i in range(len(lines)):\n",
    "        if lines[i].find(\"loop_\") != -1:\n",
    "            if lines[i+1].find(\"_atom_site\") != -1:\n",
    "                print(\"loopstart: \", i)\n",
    "                loopstart = i\n",
    "        if lines[i].find(\"_atom_site_type_symbol\") != -1:\n",
    "            type_symbol = i - loopstart -1\n",
    "            print(\"type_symbol: \", type_symbol)\n",
    "        if lines[i].find(\"_atom_site_label\") != -1:\n",
    "            site_label = i - loopstart - 1\n",
    "            print(\"site_label: \",site_label)\n",
    "        if lines[i].find(\"_atom_site\") != -1:\n",
    "            if lines[i+1].find(\"_atom_site\") == -1:\n",
    "                print(\"site_start: \",i+1)\n",
    "                site_start = i+1\n",
    "                while site_start+site_num < len(lines):\n",
    "                    if lines[site_start+site_num].find(\"_\") == -1:\n",
    "                        line = lines[site_start+site_num].strip().split()\n",
    "\n",
    "                        if len(line[type_symbol]) in {1,2}:\n",
    "                            charge_dict[line[site_label]] = 0\n",
    "                            label_dict[line[site_label]] = line[site_label]\n",
    "                        if line[type_symbol][-2] == \"+\" or line[type_symbol][-1] == \"+\":\n",
    "                            charge_dict[line[site_label]] = 1\n",
    "                            label_dict[line[site_label]] = line[type_symbol][:-2]\n",
    "                        if line[type_symbol][-2] == \"-\" or line[type_symbol][-1] == \"-\":\n",
    "                            charge_dict[line[site_label]] = -1\n",
    "                            label_dict[line[site_label]] = line[type_symbol][:-2]\n",
    "                        site_num = site_num + 1\n",
    "                print(\"site_num: \", site_num)\n",
    "                print(\"charge_dict: \", charge_dict)\n",
    "                print(\"label_dict: \", label_dict)"
   ]
  },
  {
   "cell_type": "code",
   "execution_count": 36,
   "metadata": {},
   "outputs": [
    {
     "name": "stdout",
     "output_type": "stream",
     "text": [
      "Full Formula (Li3 Co3 O6)\n",
      "Reduced Formula: LiCoO2\n",
      "abc   :   2.814000   2.814000  14.048000\n",
      "angles:  90.000000  90.000000 120.000000\n",
      "pbc   :       True       True       True\n",
      "Sites (12)\n",
      "  #  SP           a         b         c\n",
      "---  ----  --------  --------  --------\n",
      "  0  Li    0         0         0.5\n",
      "  1  Li    0.666667  0.333333  0.833333\n",
      "  2  Li    0.333333  0.666667  0.166667\n",
      "  3  Co    0         0         0\n",
      "  4  Co    0.666667  0.333333  0.333333\n",
      "  5  Co    0.333333  0.666667  0.666667\n",
      "  6  O     0         0         0.2268\n",
      "  7  O     0         0         0.7732\n",
      "  8  O     0.666667  0.333333  0.560133\n",
      "  9  O     0.666667  0.333333  0.106533\n",
      " 10  O     0.333333  0.666667  0.893467\n",
      " 11  O     0.333333  0.666667  0.439867\n",
      "Full Formula (Li9 Co9 O18)\n",
      "Reduced Formula: LiCoO2\n",
      "abc   :   8.442000   2.814000  14.048000\n",
      "angles:  90.000000  90.000000 120.000000\n",
      "pbc   :       True       True       True\n",
      "Sites (36)\n",
      "  #  SP           a         b         c\n",
      "---  ----  --------  --------  --------\n",
      "  0  Li    0         0         0.5\n",
      "  1  Li    0.333333  0         0.5\n",
      "  2  Li    0.666667  0         0.5\n",
      "  3  Li    0.222222  0.333333  0.833333\n",
      "  4  Li    0.555556  0.333333  0.833333\n",
      "  5  Li    0.888889  0.333333  0.833333\n",
      "  6  Li    0.111111  0.666667  0.166667\n",
      "  7  Li    0.444444  0.666667  0.166667\n",
      "  8  Li    0.777778  0.666667  0.166667\n",
      "  9  Co    0         0         0\n",
      " 10  Co    0.333333  0         0\n",
      " 11  Co    0.666667  0         0\n",
      " 12  Co    0.222222  0.333333  0.333333\n",
      " 13  Co    0.555556  0.333333  0.333333\n",
      " 14  Co    0.888889  0.333333  0.333333\n",
      " 15  Co    0.111111  0.666667  0.666667\n",
      " 16  Co    0.444444  0.666667  0.666667\n",
      " 17  Co    0.777778  0.666667  0.666667\n",
      " 18  O     0         0         0.2268\n",
      " 19  O     0.333333  0         0.2268\n",
      " 20  O     0.666667  0         0.2268\n",
      " 21  O     0         0         0.7732\n",
      " 22  O     0.333333  0         0.7732\n",
      " 23  O     0.666667  0         0.7732\n",
      " 24  O     0.222222  0.333333  0.560133\n",
      " 25  O     0.555556  0.333333  0.560133\n",
      " 26  O     0.888889  0.333333  0.560133\n",
      " 27  O     0.222222  0.333333  0.106533\n",
      " 28  O     0.555556  0.333333  0.106533\n",
      " 29  O     0.888889  0.333333  0.106533\n",
      " 30  O     0.111111  0.666667  0.893467\n",
      " 31  O     0.444444  0.666667  0.893467\n",
      " 32  O     0.777778  0.666667  0.893467\n",
      " 33  O     0.111111  0.666667  0.439867\n",
      " 34  O     0.444444  0.666667  0.439867\n",
      " 35  O     0.777778  0.666667  0.439867\n",
      "Full Formula (Li27 Co27 O54)\n",
      "Reduced Formula: LiCoO2\n",
      "abc   :  25.326000   2.814000  14.048000\n",
      "angles:  90.000000  90.000000 120.000000\n",
      "pbc   :       True       True       True\n",
      "Sites (108)\n",
      "  #  SP           a         b         c\n",
      "---  ----  --------  --------  --------\n",
      "  0  Li    0         0         0.5\n",
      "  1  Li    0.333333  0         0.5\n",
      "  2  Li    0.666667  0         0.5\n",
      "  3  Li    0.111111  0         0.5\n",
      "  4  Li    0.444444  0         0.5\n",
      "  5  Li    0.777778  0         0.5\n",
      "  6  Li    0.222222  0         0.5\n",
      "  7  Li    0.555556  0         0.5\n",
      "  8  Li    0.888889  0         0.5\n",
      "  9  Li    0.074074  0.333333  0.833333\n",
      " 10  Li    0.407407  0.333333  0.833333\n",
      " 11  Li    0.740741  0.333333  0.833333\n",
      " 12  Li    0.185185  0.333333  0.833333\n",
      " 13  Li    0.518519  0.333333  0.833333\n",
      " 14  Li    0.851852  0.333333  0.833333\n",
      " 15  Li    0.296296  0.333333  0.833333\n",
      " 16  Li    0.62963   0.333333  0.833333\n",
      " 17  Li    0.962963  0.333333  0.833333\n",
      " 18  Li    0.037037  0.666667  0.166667\n",
      " 19  Li    0.37037   0.666667  0.166667\n",
      " 20  Li    0.703704  0.666667  0.166667\n",
      " 21  Li    0.148148  0.666667  0.166667\n",
      " 22  Li    0.481481  0.666667  0.166667\n",
      " 23  Li    0.814815  0.666667  0.166667\n",
      " 24  Li    0.259259  0.666667  0.166667\n",
      " 25  Li    0.592593  0.666667  0.166667\n",
      " 26  Li    0.925926  0.666667  0.166667\n",
      " 27  Co    0         0         0\n",
      " 28  Co    0.333333  0         0\n",
      " 29  Co    0.666667  0         0\n",
      " 30  Co    0.111111  0         1\n",
      " 31  Co    0.444444  0         1\n",
      " 32  Co    0.777778  0         0\n",
      " 33  Co    0.222222  0         1\n",
      " 34  Co    0.555556  0         0\n",
      " 35  Co    0.888889  0         1\n",
      " 36  Co    0.074074  0.333333  0.333333\n",
      " 37  Co    0.407407  0.333333  0.333333\n",
      " 38  Co    0.740741  0.333333  0.333333\n",
      " 39  Co    0.185185  0.333333  0.333333\n",
      " 40  Co    0.518519  0.333333  0.333333\n",
      " 41  Co    0.851852  0.333333  0.333333\n",
      " 42  Co    0.296296  0.333333  0.333333\n",
      " 43  Co    0.62963   0.333333  0.333333\n",
      " 44  Co    0.962963  0.333333  0.333333\n",
      " 45  Co    0.037037  0.666667  0.666667\n",
      " 46  Co    0.37037   0.666667  0.666667\n",
      " 47  Co    0.703704  0.666667  0.666667\n",
      " 48  Co    0.148148  0.666667  0.666667\n",
      " 49  Co    0.481481  0.666667  0.666667\n",
      " 50  Co    0.814815  0.666667  0.666667\n",
      " 51  Co    0.259259  0.666667  0.666667\n",
      " 52  Co    0.592593  0.666667  0.666667\n",
      " 53  Co    0.925926  0.666667  0.666667\n",
      " 54  O     0         0         0.2268\n",
      " 55  O     0.333333  0         0.2268\n",
      " 56  O     0.666667  0         0.2268\n",
      " 57  O     0.111111  0         0.2268\n",
      " 58  O     0.444444  0         0.2268\n",
      " 59  O     0.777778  0         0.2268\n",
      " 60  O     0.222222  0         0.2268\n",
      " 61  O     0.555556  0         0.2268\n",
      " 62  O     0.888889  0         0.2268\n",
      " 63  O     0         0         0.7732\n",
      " 64  O     0.333333  0         0.7732\n",
      " 65  O     0.666667  0         0.7732\n",
      " 66  O     0.111111  0         0.7732\n",
      " 67  O     0.444444  0         0.7732\n",
      " 68  O     0.777778  0         0.7732\n",
      " 69  O     0.222222  0         0.7732\n",
      " 70  O     0.555556  0         0.7732\n",
      " 71  O     0.888889  0         0.7732\n",
      " 72  O     0.074074  0.333333  0.560133\n",
      " 73  O     0.407407  0.333333  0.560133\n",
      " 74  O     0.740741  0.333333  0.560133\n",
      " 75  O     0.185185  0.333333  0.560133\n",
      " 76  O     0.518519  0.333333  0.560133\n",
      " 77  O     0.851852  0.333333  0.560133\n",
      " 78  O     0.296296  0.333333  0.560133\n",
      " 79  O     0.62963   0.333333  0.560133\n",
      " 80  O     0.962963  0.333333  0.560133\n",
      " 81  O     0.074074  0.333333  0.106533\n",
      " 82  O     0.407407  0.333333  0.106533\n",
      " 83  O     0.740741  0.333333  0.106533\n",
      " 84  O     0.185185  0.333333  0.106533\n",
      " 85  O     0.518519  0.333333  0.106533\n",
      " 86  O     0.851852  0.333333  0.106533\n",
      " 87  O     0.296296  0.333333  0.106533\n",
      " 88  O     0.62963   0.333333  0.106533\n",
      " 89  O     0.962963  0.333333  0.106533\n",
      " 90  O     0.037037  0.666667  0.893467\n",
      " 91  O     0.37037   0.666667  0.893467\n",
      " 92  O     0.703704  0.666667  0.893467\n",
      " 93  O     0.148148  0.666667  0.893467\n",
      " 94  O     0.481481  0.666667  0.893467\n",
      " 95  O     0.814815  0.666667  0.893467\n",
      " 96  O     0.259259  0.666667  0.893467\n",
      " 97  O     0.592593  0.666667  0.893467\n",
      " 98  O     0.925926  0.666667  0.893467\n",
      " 99  O     0.037037  0.666667  0.439867\n",
      "100  O     0.37037   0.666667  0.439867\n",
      "101  O     0.703704  0.666667  0.439867\n",
      "102  O     0.148148  0.666667  0.439867\n",
      "103  O     0.481481  0.666667  0.439867\n",
      "104  O     0.814815  0.666667  0.439867\n",
      "105  O     0.259259  0.666667  0.439867\n",
      "106  O     0.592593  0.666667  0.439867\n",
      "107  O     0.925926  0.666667  0.439867\n"
     ]
    },
    {
     "name": "stderr",
     "output_type": "stream",
     "text": [
      "d:\\Program\\Python\\Python310\\lib\\site-packages\\pymatgen\\io\\cif.py:1186: UserWarning: The default value of primitive was changed from True to False in https://github.com/materialsproject/pymatgen/pull/3419. CifParser now returns the cell in the CIF file as is. If you want the primitive cell, please set primitive=True explicitly.\n",
      "  warnings.warn(\n"
     ]
    }
   ],
   "source": [
    "import pymatgen.core as pmg\n",
    "path = r\"G:\\GitClone\\Chem4D\\sample\\LiCoO2.cif\"\n",
    "structure = pmg.Structure.from_file(path)\n",
    "# for i in structure:\n",
    "#     print(i.label,i.specie,i.frac_coords)\n",
    "\n",
    "print(structure)\n",
    "# print(type(structure.lattice))\n",
    "# print(type(structure[0].specie),str(structure[0].specie))\n",
    "# print(type(structure[0].label))\n",
    "print(structure.make_supercell([3,1,1],to_unit_cell=True))\n",
    "print(structure.make_supercell([3,1,1],to_unit_cell=False))\n"
   ]
  },
  {
   "cell_type": "code",
   "execution_count": 7,
   "metadata": {},
   "outputs": [
    {
     "name": "stdout",
     "output_type": "stream",
     "text": [
      "yes\n"
     ]
    }
   ],
   "source": [
    "test = [\"asdfgc\"]\n",
    "if type(test) == list:\n",
    "    print(\"yes\")"
   ]
  },
  {
   "cell_type": "code",
   "execution_count": 4,
   "metadata": {},
   "outputs": [
    {
     "data": {
      "text/plain": [
       "[0, 1]"
      ]
     },
     "execution_count": 4,
     "metadata": {},
     "output_type": "execute_result"
    }
   ],
   "source": [
    "a = list(range(0,2))\n",
    "a"
   ]
  },
  {
   "cell_type": "code",
   "execution_count": 26,
   "metadata": {},
   "outputs": [
    {
     "data": {
      "text/plain": [
       "array([1, 2, 3])"
      ]
     },
     "execution_count": 26,
     "metadata": {},
     "output_type": "execute_result"
    }
   ],
   "source": [
    "import numpy as np\n",
    "a = np.array([[1,2,3],[4,5,6],[7,8,9]])\n",
    "a[0]"
   ]
  },
  {
   "cell_type": "code",
   "execution_count": 31,
   "metadata": {},
   "outputs": [
    {
     "data": {
      "text/plain": [
       "0"
      ]
     },
     "execution_count": 31,
     "metadata": {},
     "output_type": "execute_result"
    }
   ],
   "source": [
    "a = 10\n",
    "type(a)()"
   ]
  },
  {
   "cell_type": "code",
   "execution_count": 3,
   "metadata": {},
   "outputs": [],
   "source": [
    "class mytest(object):\n",
    "    def __init__(self):\n",
    "        self.a = 1\n",
    "setattr()"
   ]
  },
  {
   "cell_type": "code",
   "execution_count": 5,
   "metadata": {},
   "outputs": [
    {
     "data": {
      "text/plain": [
       "array([[-0.2160603 ,  1.38638274,  0.9883482 ]])"
      ]
     },
     "execution_count": 5,
     "metadata": {},
     "output_type": "execute_result"
    }
   ],
   "source": [
    "import numpy as np\n",
    "np.random.randn(1,3)\n"
   ]
  },
  {
   "cell_type": "code",
   "execution_count": 1,
   "metadata": {},
   "outputs": [
    {
     "data": {
      "text/plain": [
       "str"
      ]
     },
     "execution_count": 1,
     "metadata": {},
     "output_type": "execute_result"
    }
   ],
   "source": [
    "type(\"Li\")"
   ]
  },
  {
   "cell_type": "code",
   "execution_count": 3,
   "metadata": {},
   "outputs": [
    {
     "data": {
      "text/plain": [
       "[1, 2, 3, 4, 5, 6, 7]"
      ]
     },
     "execution_count": 3,
     "metadata": {},
     "output_type": "execute_result"
    }
   ],
   "source": [
    "a = [1,2,1,5,3,7,6,4]\n",
    "list(set(a))"
   ]
  },
  {
   "cell_type": "code",
   "execution_count": 5,
   "metadata": {},
   "outputs": [
    {
     "data": {
      "text/plain": [
       "[23, 24, 25, 26, 27, 28, 29, 30, 31, 32, 33, 34, 35, 36, 37, 38]"
      ]
     },
     "execution_count": 5,
     "metadata": {},
     "output_type": "execute_result"
    }
   ],
   "source": [
    "a = [32, 33, 34, 35, 36, 37, 38, 23, 24, 25, 26, 27, 28, 29, 30, 31]\n",
    "a.sort()\n",
    "a"
   ]
  },
  {
   "cell_type": "code",
   "execution_count": 3,
   "metadata": {},
   "outputs": [
    {
     "data": {
      "text/plain": [
       "Structure Summary\n",
       "Lattice\n",
       "    abc : 2.814 2.814 14.048\n",
       " angles : 90.0 90.0 120.00000000000001\n",
       " volume : 96.33704403060047\n",
       "      A : 2.814 0.0 1.723078046400326e-16\n",
       "      B : -1.4069999999999998 2.4369954862494105 1.723078046400326e-16\n",
       "      C : 0.0 0.0 14.048\n",
       "    pbc : True True True\n",
       "PeriodicSite: Li1 (Li+) (0.0, 0.0, 7.024) [0.0, 0.0, 0.5]\n",
       "PeriodicSite: Li1 (Li+) (1.407, 0.8123, 11.71) [0.6667, 0.3333, 0.8333]\n",
       "PeriodicSite: Li1 (Li+) (1.11e-16, 1.625, 2.341) [0.3333, 0.6667, 0.1667]\n",
       "PeriodicSite: Co1 (Co3+) (0.0, 0.0, 0.0) [0.0, 0.0, 0.0]\n",
       "PeriodicSite: Co1 (Co3+) (1.407, 0.8123, 4.683) [0.6667, 0.3333, 0.3333]\n",
       "PeriodicSite: Co1 (Co3+) (1.11e-16, 1.625, 9.365) [0.3333, 0.6667, 0.6667]\n",
       "PeriodicSite: O1 (O2-) (0.0, 0.0, 3.186) [0.0, 0.0, 0.2268]\n",
       "PeriodicSite: O1 (O2-) (0.0, 0.0, 10.86) [0.0, 0.0, 0.7732]\n",
       "PeriodicSite: O1 (O2-) (1.407, 0.8123, 7.869) [0.6667, 0.3333, 0.5601]\n",
       "PeriodicSite: O1 (O2-) (1.407, 0.8123, 1.497) [0.6667, 0.3333, 0.1065]\n",
       "PeriodicSite: O1 (O2-) (1.11e-16, 1.625, 12.55) [0.3333, 0.6667, 0.8935]\n",
       "PeriodicSite: O1 (O2-) (1.11e-16, 1.625, 6.179) [0.3333, 0.6667, 0.4399]"
      ]
     },
     "execution_count": 3,
     "metadata": {},
     "output_type": "execute_result"
    }
   ],
   "source": [
    "import pymatgen.analysis.local_env as pmg_env\n",
    "import pymatgen.core as pmg\n",
    "path = r\"G:\\GitClone\\Chem4D\\sample\\LiCoO2.cif\"\n",
    "structure = pmg.Structure.from_file(path)\n",
    "structure.add_oxidation_state_by_guess()\n",
    "structure[2].specie\n",
    "structure\n",
    "\n"
   ]
  },
  {
   "cell_type": "code",
   "execution_count": 44,
   "metadata": {},
   "outputs": [
    {
     "data": {
      "text/plain": [
       "array([ 0,  8, -9])"
      ]
     },
     "execution_count": 44,
     "metadata": {},
     "output_type": "execute_result"
    }
   ],
   "source": [
    "import numpy as np\n",
    "a = np.array([[0,8,-9]])\n",
    "a[0]"
   ]
  },
  {
   "cell_type": "code",
   "execution_count": 2,
   "metadata": {},
   "outputs": [
    {
     "name": "stdout",
     "output_type": "stream",
     "text": [
      "[1.407      2.43699549 3.1860864 ] O O1\n",
      "[2.814     0.        3.1860864] O O1\n",
      "[0.        0.        3.1860864] O O1\n",
      "[2.814      1.62466366 6.17924693] O O1\n",
      "[1.11022302e-16 1.62466366e+00 6.17924693e+00] O O1\n",
      "[ 1.407      -0.81233183  6.17924693] O O1\n"
     ]
    },
    {
     "name": "stderr",
     "output_type": "stream",
     "text": [
      "d:\\Program\\Python\\Python310\\lib\\site-packages\\pymatgen\\io\\cif.py:1186: UserWarning: The default value of primitive was changed from True to False in https://github.com/materialsproject/pymatgen/pull/3419. CifParser now returns the cell in the CIF file as is. If you want the primitive cell, please set primitive=True explicitly.\n",
      "  warnings.warn(\n"
     ]
    }
   ],
   "source": [
    "import pymatgen.analysis.local_env as pmg_env\n",
    "import pymatgen.core as pmg\n",
    "path = r\"G:\\GitClone\\Chem4D\\sample\\LiCoO2.cif\"\n",
    "structure = pmg.Structure.from_file(path)\n",
    "NN = pmg_env.CrystalNN(distance_cutoffs=None,x_diff_weight=0,porous_adjustment=False)\n",
    "NN.get_nn_data(structure,4)\n",
    "# print(NN.get_nn_info(structure,4))\n",
    "for dic in NN.get_nn_info(structure,4):\n",
    "    print(dic[\"site\"],dic[\"site\"].label)"
   ]
  },
  {
   "cell_type": "code",
   "execution_count": 7,
   "metadata": {},
   "outputs": [
    {
     "name": "stdout",
     "output_type": "stream",
     "text": [
      "\n"
     ]
    },
    {
     "data": {
      "text/plain": [
       "str"
      ]
     },
     "execution_count": 7,
     "metadata": {},
     "output_type": "execute_result"
    }
   ],
   "source": [
    "a = str(print(\"\"))\n",
    "type(a)"
   ]
  },
  {
   "cell_type": "code",
   "execution_count": null,
   "metadata": {},
   "outputs": [],
   "source": []
  }
 ],
 "metadata": {
  "kernelspec": {
   "display_name": "Python 3",
   "language": "python",
   "name": "python3"
  },
  "language_info": {
   "codemirror_mode": {
    "name": "ipython",
    "version": 3
   },
   "file_extension": ".py",
   "mimetype": "text/x-python",
   "name": "python",
   "nbconvert_exporter": "python",
   "pygments_lexer": "ipython3",
   "version": "3.10.5"
  }
 },
 "nbformat": 4,
 "nbformat_minor": 2
}
